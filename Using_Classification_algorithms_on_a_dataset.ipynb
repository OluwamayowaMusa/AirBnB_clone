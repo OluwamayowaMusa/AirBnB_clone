{
  "nbformat": 4,
  "nbformat_minor": 0,
  "metadata": {
    "colab": {
      "provenance": [],
      "collapsed_sections": [],
      "authorship_tag": "ABX9TyPSwPx1+nyCRED7a0Cl2R0n",
      "include_colab_link": true
    },
    "kernelspec": {
      "name": "python3",
      "display_name": "Python 3"
    },
    "language_info": {
      "name": "python"
    }
  },
  "cells": [
    {
      "cell_type": "markdown",
      "metadata": {
        "id": "view-in-github",
        "colab_type": "text"
      },
      "source": [
        "<a href=\"https://colab.research.google.com/github/OluwamayowaMusa/AirBnB_clone/blob/master/Using_Classification_algorithms_on_a_dataset.ipynb\" target=\"_parent\"><img src=\"https://colab.research.google.com/assets/colab-badge.svg\" alt=\"Open In Colab\"/></a>"
      ]
    },
    {
      "cell_type": "markdown",
      "source": [
        "Last lesson, we learnt about the `Perceptron model` and how to implement it. This lesson will be about using the `Perceptron model` on a dataset and we will also look at the Object oriented form of the `Perceptron model`.\n",
        "\n",
        "Let's look at the implementation using Object Oriented approach. ✈"
      ],
      "metadata": {
        "id": "xbNQscIcLnuu"
      }
    },
    {
      "cell_type": "code",
      "source": [
        "import numpy as np"
      ],
      "metadata": {
        "id": "YXysFvNsMYbH"
      },
      "execution_count": 2,
      "outputs": []
    },
    {
      "cell_type": "code",
      "source": [
        "class Perceptron:\n",
        "  \"\"\" Perceptron classifier\n",
        "\n",
        "  Parameters:\n",
        "    eta (float): Learning rate (between 0.0 and 1.0)\n",
        "    n_iter (int): Passing ovet the training dataset\n",
        "    random_state (int): Random number generator seed for random weight \n",
        "                        initialization\n",
        "\n",
        "  Attributes:\n",
        "    w_ (1d-array): Weights after fitting\n",
        "    errors_ (list): Number of misclassifications (updates) in each epoch\n",
        "\n",
        "  \"\"\"\n",
        "  def __init__(self, eta=0.01, n_iter=50, random_state=1):\n",
        "    self.eta = eta\n",
        "    self.n_iter = n_iter\n",
        "    self.random_state = random_state\n",
        "\n",
        "  def fit(self, X, y):\n",
        "    \"\"\" Fit traning data\n",
        "\n",
        "    Parameters:\n",
        "      X (array): shape = [n_examples, n_features]), Training vectors, where\n",
        "                 n_examples is the number of examples and n_features is the number \n",
        "                 of features\n",
        "      y (array): shape = [n_example], Target values\n",
        "\n",
        "    Returns:\n",
        "      self : object\n",
        "    \"\"\"\n",
        "    rgen = np.random.RandomState(self.random_state)\n",
        "    self.w_ = rgen.normal(loc=0.0, scale=0.01, size=1 + X.shape[1])\n",
        "    self.errors_ = []\n",
        "\n",
        "    for _ in range(self.n_iter):\n",
        "      errors = 0\n",
        "      for xi, target in zip(X, y):\n",
        "        update = self.eta * (target - self.predict(xi))\n",
        "        self.w_[1:] += update * xi\n",
        "        self.w_[0] += update\n",
        "        errors += int(update != 0.0)\n",
        "      self.errors_.append(errors)\n",
        "\n",
        "    return self\n",
        "\n",
        "  def net_input(self, X):\n",
        "    \"\"\" Calculate net input \"\"\"\n",
        "    return np.dot(X, self.w_[1:]) + self.w_[0]\n",
        "\n",
        "  def predict(self, X):\n",
        "    \"\"\" Return class label after unit step \"\"\"\n",
        "    return np.where(self.net_input(X) >= 0.0, 1, -1)"
      ],
      "metadata": {
        "id": "dqzFbNyMNX8v"
      },
      "execution_count": 3,
      "outputs": []
    },
    {
      "cell_type": "markdown",
      "source": [
        "Woww that is a whole lot. Comparing the Object Oriented Perceptron model to the functional one I prefer the Object Oriented one 🤭.\n",
        "\n",
        "Let's load our dataset"
      ],
      "metadata": {
        "id": "imE6QZ7gQx6m"
      }
    },
    {
      "cell_type": "code",
      "source": [
        "import os\n",
        "import pandas as pd\n",
        "import matplotlib.pyplot as plt"
      ],
      "metadata": {
        "id": "fxa1RSKMQ0TI"
      },
      "execution_count": 4,
      "outputs": []
    },
    {
      "cell_type": "code",
      "source": [
        "s = os.path.join(\"https://archive.ics.uci.edu\", \"ml\",\n",
        "                 \"machine-learning-databases\", \"iris\",\n",
        "                 \"iris.data\")\n",
        "print(\"URL: \", s)"
      ],
      "metadata": {
        "colab": {
          "base_uri": "https://localhost:8080/"
        },
        "id": "2XrvtXR1THMy",
        "outputId": "b7f66f2f-aaf3-4ed4-e4ec-c47e4f0a2dd8"
      },
      "execution_count": 5,
      "outputs": [
        {
          "output_type": "stream",
          "name": "stdout",
          "text": [
            "URL:  https://archive.ics.uci.edu/ml/machine-learning-databases/iris/iris.data\n"
          ]
        }
      ]
    },
    {
      "cell_type": "code",
      "source": [
        "df = pd.read_csv(s, header=None, encoding=\"utf-8\")"
      ],
      "metadata": {
        "id": "Qz3wgSipYm8k"
      },
      "execution_count": 6,
      "outputs": []
    },
    {
      "cell_type": "code",
      "source": [
        "df.head()"
      ],
      "metadata": {
        "colab": {
          "base_uri": "https://localhost:8080/",
          "height": 206
        },
        "id": "TRZfXeRcZM2x",
        "outputId": "8e4a5b28-b8f8-4660-fdc6-a7e5fd41e089"
      },
      "execution_count": 7,
      "outputs": [
        {
          "output_type": "execute_result",
          "data": {
            "text/plain": [
              "     0    1    2    3            4\n",
              "0  5.1  3.5  1.4  0.2  Iris-setosa\n",
              "1  4.9  3.0  1.4  0.2  Iris-setosa\n",
              "2  4.7  3.2  1.3  0.2  Iris-setosa\n",
              "3  4.6  3.1  1.5  0.2  Iris-setosa\n",
              "4  5.0  3.6  1.4  0.2  Iris-setosa"
            ],
            "text/html": [
              "\n",
              "  <div id=\"df-e87184c5-7c08-4735-8b92-f6baecf7273b\">\n",
              "    <div class=\"colab-df-container\">\n",
              "      <div>\n",
              "<style scoped>\n",
              "    .dataframe tbody tr th:only-of-type {\n",
              "        vertical-align: middle;\n",
              "    }\n",
              "\n",
              "    .dataframe tbody tr th {\n",
              "        vertical-align: top;\n",
              "    }\n",
              "\n",
              "    .dataframe thead th {\n",
              "        text-align: right;\n",
              "    }\n",
              "</style>\n",
              "<table border=\"1\" class=\"dataframe\">\n",
              "  <thead>\n",
              "    <tr style=\"text-align: right;\">\n",
              "      <th></th>\n",
              "      <th>0</th>\n",
              "      <th>1</th>\n",
              "      <th>2</th>\n",
              "      <th>3</th>\n",
              "      <th>4</th>\n",
              "    </tr>\n",
              "  </thead>\n",
              "  <tbody>\n",
              "    <tr>\n",
              "      <th>0</th>\n",
              "      <td>5.1</td>\n",
              "      <td>3.5</td>\n",
              "      <td>1.4</td>\n",
              "      <td>0.2</td>\n",
              "      <td>Iris-setosa</td>\n",
              "    </tr>\n",
              "    <tr>\n",
              "      <th>1</th>\n",
              "      <td>4.9</td>\n",
              "      <td>3.0</td>\n",
              "      <td>1.4</td>\n",
              "      <td>0.2</td>\n",
              "      <td>Iris-setosa</td>\n",
              "    </tr>\n",
              "    <tr>\n",
              "      <th>2</th>\n",
              "      <td>4.7</td>\n",
              "      <td>3.2</td>\n",
              "      <td>1.3</td>\n",
              "      <td>0.2</td>\n",
              "      <td>Iris-setosa</td>\n",
              "    </tr>\n",
              "    <tr>\n",
              "      <th>3</th>\n",
              "      <td>4.6</td>\n",
              "      <td>3.1</td>\n",
              "      <td>1.5</td>\n",
              "      <td>0.2</td>\n",
              "      <td>Iris-setosa</td>\n",
              "    </tr>\n",
              "    <tr>\n",
              "      <th>4</th>\n",
              "      <td>5.0</td>\n",
              "      <td>3.6</td>\n",
              "      <td>1.4</td>\n",
              "      <td>0.2</td>\n",
              "      <td>Iris-setosa</td>\n",
              "    </tr>\n",
              "  </tbody>\n",
              "</table>\n",
              "</div>\n",
              "      <button class=\"colab-df-convert\" onclick=\"convertToInteractive('df-e87184c5-7c08-4735-8b92-f6baecf7273b')\"\n",
              "              title=\"Convert this dataframe to an interactive table.\"\n",
              "              style=\"display:none;\">\n",
              "        \n",
              "  <svg xmlns=\"http://www.w3.org/2000/svg\" height=\"24px\"viewBox=\"0 0 24 24\"\n",
              "       width=\"24px\">\n",
              "    <path d=\"M0 0h24v24H0V0z\" fill=\"none\"/>\n",
              "    <path d=\"M18.56 5.44l.94 2.06.94-2.06 2.06-.94-2.06-.94-.94-2.06-.94 2.06-2.06.94zm-11 1L8.5 8.5l.94-2.06 2.06-.94-2.06-.94L8.5 2.5l-.94 2.06-2.06.94zm10 10l.94 2.06.94-2.06 2.06-.94-2.06-.94-.94-2.06-.94 2.06-2.06.94z\"/><path d=\"M17.41 7.96l-1.37-1.37c-.4-.4-.92-.59-1.43-.59-.52 0-1.04.2-1.43.59L10.3 9.45l-7.72 7.72c-.78.78-.78 2.05 0 2.83L4 21.41c.39.39.9.59 1.41.59.51 0 1.02-.2 1.41-.59l7.78-7.78 2.81-2.81c.8-.78.8-2.07 0-2.86zM5.41 20L4 18.59l7.72-7.72 1.47 1.35L5.41 20z\"/>\n",
              "  </svg>\n",
              "      </button>\n",
              "      \n",
              "  <style>\n",
              "    .colab-df-container {\n",
              "      display:flex;\n",
              "      flex-wrap:wrap;\n",
              "      gap: 12px;\n",
              "    }\n",
              "\n",
              "    .colab-df-convert {\n",
              "      background-color: #E8F0FE;\n",
              "      border: none;\n",
              "      border-radius: 50%;\n",
              "      cursor: pointer;\n",
              "      display: none;\n",
              "      fill: #1967D2;\n",
              "      height: 32px;\n",
              "      padding: 0 0 0 0;\n",
              "      width: 32px;\n",
              "    }\n",
              "\n",
              "    .colab-df-convert:hover {\n",
              "      background-color: #E2EBFA;\n",
              "      box-shadow: 0px 1px 2px rgba(60, 64, 67, 0.3), 0px 1px 3px 1px rgba(60, 64, 67, 0.15);\n",
              "      fill: #174EA6;\n",
              "    }\n",
              "\n",
              "    [theme=dark] .colab-df-convert {\n",
              "      background-color: #3B4455;\n",
              "      fill: #D2E3FC;\n",
              "    }\n",
              "\n",
              "    [theme=dark] .colab-df-convert:hover {\n",
              "      background-color: #434B5C;\n",
              "      box-shadow: 0px 1px 3px 1px rgba(0, 0, 0, 0.15);\n",
              "      filter: drop-shadow(0px 1px 2px rgba(0, 0, 0, 0.3));\n",
              "      fill: #FFFFFF;\n",
              "    }\n",
              "  </style>\n",
              "\n",
              "      <script>\n",
              "        const buttonEl =\n",
              "          document.querySelector('#df-e87184c5-7c08-4735-8b92-f6baecf7273b button.colab-df-convert');\n",
              "        buttonEl.style.display =\n",
              "          google.colab.kernel.accessAllowed ? 'block' : 'none';\n",
              "\n",
              "        async function convertToInteractive(key) {\n",
              "          const element = document.querySelector('#df-e87184c5-7c08-4735-8b92-f6baecf7273b');\n",
              "          const dataTable =\n",
              "            await google.colab.kernel.invokeFunction('convertToInteractive',\n",
              "                                                     [key], {});\n",
              "          if (!dataTable) return;\n",
              "\n",
              "          const docLinkHtml = 'Like what you see? Visit the ' +\n",
              "            '<a target=\"_blank\" href=https://colab.research.google.com/notebooks/data_table.ipynb>data table notebook</a>'\n",
              "            + ' to learn more about interactive tables.';\n",
              "          element.innerHTML = '';\n",
              "          dataTable['output_type'] = 'display_data';\n",
              "          await google.colab.output.renderOutput(dataTable, element);\n",
              "          const docLink = document.createElement('div');\n",
              "          docLink.innerHTML = docLinkHtml;\n",
              "          element.appendChild(docLink);\n",
              "        }\n",
              "      </script>\n",
              "    </div>\n",
              "  </div>\n",
              "  "
            ]
          },
          "metadata": {},
          "execution_count": 7
        }
      ]
    },
    {
      "cell_type": "code",
      "source": [
        "y = df.iloc[0:100, 4].values\n",
        "y = np.where(y == \"Iris-setosa\", -1, 1)"
      ],
      "metadata": {
        "id": "d0aOuFj2ZmNW"
      },
      "execution_count": 8,
      "outputs": []
    },
    {
      "cell_type": "code",
      "source": [
        "X = df.iloc[0:100, [0, 2]].values"
      ],
      "metadata": {
        "id": "s3fGRQcLaNpj"
      },
      "execution_count": 9,
      "outputs": []
    },
    {
      "cell_type": "code",
      "source": [
        "plt.scatter(X[:50, 0], X[:50, 1], color=\"red\",\n",
        "            marker='o', label=\"Setosa\")\n",
        "plt.scatter(X[50:100, 0], X[50:100, 1], color=\"blue\",\n",
        "            marker='x', label=\"Verisocolor\")\n",
        "plt.xlabel(\"Sepal length (cm)\")\n",
        "plt.ylabel(\"Petal length (cm)\")\n",
        "plt.legend(loc=\"upper left\")\n",
        "plt.show()"
      ],
      "metadata": {
        "colab": {
          "base_uri": "https://localhost:8080/",
          "height": 279
        },
        "id": "V4nmkTNIauaS",
        "outputId": "b8effd8c-0484-4a8c-b12d-23b7127ec183"
      },
      "execution_count": 10,
      "outputs": [
        {
          "output_type": "display_data",
          "data": {
            "text/plain": [
              "<Figure size 432x288 with 1 Axes>"
            ],
            "image/png": "[encoded data removed]"
          },
          "metadata": {
            "needs_background": "light"
          }
        }
      ]
    },
    {
      "cell_type": "markdown",
      "source": [
        "From the plot above, we can see the dataset is linearly separable, let's train our perceptron algorithm"
      ],
      "metadata": {
        "id": "rcVfVFUDaxup"
      }
    },
    {
      "cell_type": "code",
      "source": [
        "ppn = Perceptron(eta=0.1, n_iter=10)\n",
        "ppn.fit(X, y)\n",
        "plt.plot(range(1, len(ppn.errors_) + 1), ppn.errors_, marker='o')\n",
        "plt.xlabel(\"Epochs\")\n",
        "plt.ylabel(\"Number of updates\")\n",
        "plt.show()"
      ],
      "metadata": {
        "colab": {
          "base_uri": "https://localhost:8080/",
          "height": 279
        },
        "id": "lQIHIWFqcPx2",
        "outputId": "bd23a6a4-6ea8-4cb3-8ec9-b7645bf7f1a6"
      },
      "execution_count": 11,
      "outputs": [
        {
          "output_type": "display_data",
          "data": {
            "text/plain": [
              "<Figure size 432x288 with 1 Axes>"
            ],
            "image/png": "[encoded data removed]"
          },
          "metadata": {
            "needs_background": "light"
          }
        }
      ]
    },
    {
      "cell_type": "markdown",
      "source": [
        "We can see that our perceptron converged after the sixth epoch. Let's implement a small convenience to visualize the decision boundaries for two-dimensional datasets:"
      ],
      "metadata": {
        "id": "AKgbgt-uiHF4"
      }
    },
    {
      "cell_type": "code",
      "source": [
        "from matplotlib.colors import ListedColormap\n",
        "\n",
        "def plot_decision_regions(X, y, classifier, resolution=0.02):\n",
        "  # setup marker generator and color map\n",
        "  markers = ('s', 'x', 'o', '^', 'v')\n",
        "  colors = ('red', 'blue', 'lightgreen', 'gray', 'cyan')\n",
        "  cmap = ListedColormap(colors[:len(np.unique(y))])\n",
        "\n",
        "  # plot the decision surface\n",
        "  x1_min, x1_max = X[:, 0].min() - 1, X[:, 0].max() + 1\n",
        "  x2_min, x2_max = X[:, 1].min() -1, X[:, 1].max() + 1\n",
        "  xx1, xx2 = np.meshgrid(np.arange(x1_min, x1_max, resolution),\n",
        "                         np.arange(x2_min, x2_max, resolution))\n",
        "  Z = classifier.predict(np.array([xx1.ravel(), xx2.ravel()]).T)\n",
        "  Z = Z.reshape(xx1.shape)\n",
        "  plt.contourf(xx1, xx2, Z, alpha=0.3, cmap=cmap)\n",
        "  plt.xlim(xx1.min(), xx1.max())\n",
        "  plt.ylim(xx2.min(), xx2.max())\n",
        "\n",
        "  for idx, cl in enumerate(np.unique(y)):\n",
        "    plt.scatter(x=X[y == cl, 0], y=X[y == cl, 1],\n",
        "                alpha=0.8, c=colors[idx],\n",
        "                marker=markers[idx], label=cl,\n",
        "                edgecolor='black')"
      ],
      "metadata": {
        "id": "9Q5WNeT7e3GD"
      },
      "execution_count": 12,
      "outputs": []
    },
    {
      "cell_type": "code",
      "source": [
        "plot_decision_regions(X, y, classifier=ppn)\n",
        "plt.xlabel(\"Sepal length [cm]\")\n",
        "plt.ylabel(\"Petal length [cm]\")\n",
        "plt.legend(loc=\"upper left\")\n",
        "plt.show()"
      ],
      "metadata": {
        "colab": {
          "base_uri": "https://localhost:8080/",
          "height": 280
        },
        "id": "RvH4veymkBNS",
        "outputId": "85034fa8-3af4-4dde-be22-060a68bb9930"
      },
      "execution_count": 13,
      "outputs": [
        {
          "output_type": "display_data",
          "data": {
            "text/plain": [
              "<Figure size 432x288 with 1 Axes>"
            ],
            "image/png": "[encoded data removed]"
          },
          "metadata": {
            "needs_background": "light"
          }
        }
      ]
    },
    {
      "cell_type": "markdown",
      "source": [
        "## Adaptive Linear Neurons and the convergence of learning\n",
        "\n",
        "Let's take another look at another type of single layer neural network (NN): `Adaptive Linear Neuron (Adaline)`. `Adaline` is considered an improvement on the `perceptron algorithm` cause it illustrates the key concepts of `defining and minimizing continuous cost functions`. The key difference between the `Adaline` and `Perceptron` is that the weights are updated based on a `linear activation` function.\n",
        "\n",
        "## Minimizing Cost functions with gradient descent\n",
        "\n",
        "One of the key ingredients of `Supervised Machine Learning algortihms` is a defined `Objective function (cost or loss function)` to be optimized during the learning process. We often want to `minimize` the `cost function`. \n",
        "\n",
        "To learn more about the cost function and minimizing the cost function using gradient descent refer to the `Python Machine Learning Book 📗`."
      ],
      "metadata": {
        "id": "yTON6i9JkCv7"
      }
    },
    {
      "cell_type": "markdown",
      "source": [
        "Let's Implement the Adaline"
      ],
      "metadata": {
        "id": "wsAXtqCQ_a0h"
      }
    },
    {
      "cell_type": "code",
      "source": [
        "class AdalineGD:\n",
        "  \"\"\"\n",
        "  ADAptive LInear NEuron classifier\n",
        "\n",
        "  Parameters:\n",
        "  eta (float): Learning Rate between (0.0 and 1.0)\n",
        "  n_iter (int): Passes Over the training Dataset\n",
        "  random_state (int): Random Number generator seed for random weight\n",
        "                     initialization\n",
        "\n",
        "  Attributes:\n",
        "  w_ (1-d array): Weights after fitting\n",
        "  cost (list): Sum of squares cost function value in each epoch \n",
        "  \"\"\"\n",
        "\n",
        "  def __init__(self, eta=0.01, n_iter=50, random_state=1):\n",
        "    self.eta = eta\n",
        "    self.n_iter = n_iter\n",
        "    self.random_state = random_state\n",
        "\n",
        "  def fit(self, X, y):\n",
        "    \"\"\"\n",
        "    Fit training data\n",
        "\n",
        "    Parameters:\n",
        "      X (array-like, shape = [n_examples, n_features]): Training vectors\n",
        "                where n_examples is the number of examples and n_features\n",
        "                is the number of features\n",
        "      y (array-like): Target Values\n",
        "\n",
        "    Returns:\n",
        "      self, object\n",
        "    \"\"\"\n",
        "    rgen = np.random.RandomState(self.random_state)\n",
        "    self.w_ = rgen.normal(loc=0.0, scale=0.01,\n",
        "                          size=1 + X.shape[1])\n",
        "    self.cost_ = []\n",
        "\n",
        "    for i in range(self.n_iter):\n",
        "      net_input = self.net_input(X)\n",
        "      output = self.activation(net_input)\n",
        "      errors = y - output\n",
        "      self.w_[1:] += self.eta * X.T.dot(errors)\n",
        "      self.w_[0] += self.eta * errors.sum()\n",
        "      cost = (errors ** 2).sum() / 2.0\n",
        "      self.cost_.append(cost)\n",
        "    return self\n",
        "\n",
        "  def net_input(self, X):\n",
        "    \"\"\" Calculate the net input \"\"\"\n",
        "    return np.dot(X, self.w_[1:]) + self.w_[0]\n",
        "\n",
        "  def activation(self, X):\n",
        "    \"\"\" Computes linear activation \"\"\"\n",
        "    return X\n",
        "  \n",
        "  def predict(self, X):\n",
        "    \"\"\" Return Class label after unit step \"\"\"\n",
        "    return np.where(self.activation(self.net_input(X) >= 0.0),\n",
        "                    1, -1)"
      ],
      "metadata": {
        "id": "aKMQ0rn687SZ"
      },
      "execution_count": 14,
      "outputs": []
    },
    {
      "cell_type": "markdown",
      "source": [
        "Let's Observe how Adaline behaves for two different Learning rate"
      ],
      "metadata": {
        "id": "SVs50cd0GdTN"
      }
    },
    {
      "cell_type": "code",
      "source": [
        "fig, ax = plt.subplots(nrows=1, ncols=2, figsize=(10, 4))\n",
        "\n",
        "ada1 = AdalineGD(n_iter=10, eta=0.01).fit(X, y)\n",
        "ax[0].plot(range(1, len(ada1.cost_) + 1),\n",
        "           np.log10(ada1.cost_), marker='o')\n",
        "ax[0].set_xlabel(\"Epochs\")\n",
        "ax[0].set_ylabel(\"Log(sum-squared-error)\")\n",
        "ax[0].set_title(\"Adaline - Learning Rate 0.01\")\n",
        "\n",
        "ada2 = AdalineGD(n_iter=10, eta=0.0001).fit(X, y)\n",
        "ax[1].plot(range(1, len(ada2.cost_) + 1),\n",
        "           ada2.cost_, marker='o')\n",
        "ax[1].set_xlabel(\"Epochs\")\n",
        "ax[1].set_ylabel(\"Sum-squared-error\")\n",
        "ax[1].set_title(\"Adaline - Learning Rate 0.0001\");"
      ],
      "metadata": {
        "colab": {
          "base_uri": "https://localhost:8080/",
          "height": 295
        },
        "id": "LnRENcXPHL9j",
        "outputId": "3c15cea5-a917-4e95-8865-ac99981e0524"
      },
      "execution_count": 15,
      "outputs": [
        {
          "output_type": "display_data",
          "data": {
            "text/plain": [
              "<Figure size 720x288 with 2 Axes>"
            ],
            "image/png": "[encoded data removed]"
          },
          "metadata": {
            "needs_background": "light"
          }
        }
      ]
    },
    {
      "cell_type": "markdown",
      "source": [
        "As we can see a high learning rate causes us to over shoot the global minimum.\n",
        "\n",
        "To avoid this, we can make use of a feature scaling techique called `Standardization`, which gives or data properties of a `Standard Normal Distribution`: `zero mean` and `unit variance`. To know more about this technique and why it is useful, refer to Python Machine Learning Text.\n",
        "\n",
        "Let's peform standardization using numpy"
      ],
      "metadata": {
        "id": "H9hbyrGYHbyR"
      }
    },
    {
      "cell_type": "code",
      "source": [
        "X_std = np.copy(X)\n",
        "X_std[:, 0] = (X[:, 0] - X[:, 0].mean()) / X[:, 0].std()\n",
        "X_std[:, 1] = (X[:, 1] - X[:, 1].mean()) / X[:, 1].std()"
      ],
      "metadata": {
        "id": "8YZ7uiA4HeGm"
      },
      "execution_count": 16,
      "outputs": []
    },
    {
      "cell_type": "code",
      "source": [
        "ada_gd = AdalineGD(n_iter=15, eta=0.01)\n",
        "ada_gd.fit(X_std, y)\n",
        "\n",
        "plot_decision_regions(X_std, y, classifier=ada_gd)\n",
        "plt.title(\"Adaline -Gradient Descent\")\n",
        "plt.xlabel(\"Sepal length [standardized]\")\n",
        "plt.ylabel(\"Petal length [standardized]\")\n",
        "plt.legend(loc=\"upper left\")\n",
        "plt.tight_layout()"
      ],
      "metadata": {
        "colab": {
          "base_uri": "https://localhost:8080/",
          "height": 297
        },
        "id": "cvHImu-FuylA",
        "outputId": "378b6438-67de-4e04-c5a1-741551967a75"
      },
      "execution_count": 17,
      "outputs": [
        {
          "output_type": "display_data",
          "data": {
            "text/plain": [
              "<Figure size 432x288 with 1 Axes>"
            ],
            "image/png": "[encoded data removed]"
          },
          "metadata": {
            "needs_background": "light"
          }
        }
      ]
    },
    {
      "cell_type": "code",
      "source": [
        "plt.plot(range(1, len(ada_gd.cost_) + 1), ada_gd.cost_,\n",
        "         marker='o')\n",
        "plt.xlabel(\"Epochs\")\n",
        "plt.ylabel(\"Sum-squared-error\")\n",
        "plt.tight_layout()"
      ],
      "metadata": {
        "colab": {
          "base_uri": "https://localhost:8080/",
          "height": 297
        },
        "id": "YXoJ7mU1u1WA",
        "outputId": "cc16a0fc-75e3-4270-8549-c5e5db6da9c8"
      },
      "execution_count": 18,
      "outputs": [
        {
          "output_type": "display_data",
          "data": {
            "text/plain": [
              "<Figure size 432x288 with 1 Axes>"
            ],
            "image/png": "[encoded data removed]"
          },
          "metadata": {
            "needs_background": "light"
          }
        }
      ]
    },
    {
      "cell_type": "markdown",
      "source": [
        "## Large-scale machine learning and stochastic gradient descent\n",
        "\n",
        "`Stochastic gradient descent` involves updating the weight incrementally for `each` training example compared to `Batch Gradient Descent` which updates the weights based on the sum of the accumualted errors over `all` training examples. To learn about the advantages of `SGD` over `BGD`, refer to the Python Machine Learning text.\n",
        "\n",
        "Let's Implement the `SGD`"
      ],
      "metadata": {
        "id": "qBymwm2pweYy"
      }
    },
    {
      "cell_type": "code",
      "source": [
        "class AdalineSGD:\n",
        "  \"\"\"\n",
        "  ADAptive LInear NEuron classifier Based on Stochastic Gradient Descent\n",
        "\n",
        "  Parameters:\n",
        "    eta (float): Learning rate (between 0.0 and 1.0)\n",
        "    n_iter (int): Number of iterations\n",
        "    shuffle (bool): Shuffles training data every epoch to prevent cycle\n",
        "                    (Default: True)\n",
        "    random_state (int): Random Number Generator seed for random weight\n",
        "                        Initialization\n",
        "                  \n",
        "  Attributes:\n",
        "    w_ (1-D array): Weights after fitting\n",
        "    cost_ (list): Sum of squares cost function value averaged over all\n",
        "                  training examples in each epoch\n",
        "  \"\"\"\n",
        "  def __init__(self, eta=0.01, n_iter=10,\n",
        "               shuffle=True, random_state=None):\n",
        "    self.eta = eta\n",
        "    self.n_iter = n_iter\n",
        "    self.w_initialized = False\n",
        "    self.shuffle = shuffle\n",
        "    self.random_state = random_state\n",
        "\n",
        "  def fit(self, X, y):\n",
        "    \"\"\"\n",
        "    Fit training data\n",
        "\n",
        "    Parameters:\n",
        "      X (array-like): shape - [n_examples, n_features]\n",
        "                      Training Vectors where n_examples is the \n",
        "                      number of examples and n_features is the \n",
        "                      number of features\n",
        "      y (array-like): shape - [n_examples]\n",
        "                      Target Values\n",
        "\n",
        "    Returns:\n",
        "      self: Object  \n",
        "    \"\"\"\n",
        "    self._initialize_weights(X.shape[1])\n",
        "    self.cost_ = []\n",
        "    for i in range(self.n_iter):\n",
        "      if self.shuffle:\n",
        "        X, y = self._shuffle(X, y)\n",
        "      cost = []\n",
        "      for xi, target in zip(X, y):\n",
        "        cost.append(self._update_weights(xi, target))\n",
        "      avg_cost = sum(cost) / len(y)\n",
        "      self.cost_.append(avg_cost)\n",
        "    return self\n",
        "\n",
        "  def partial_fit(self, X, y):\n",
        "    \"\"\" Fit training data without reintializing the weights \"\"\"\n",
        "    if not self.w_initialized:\n",
        "      self._initialize_weights(X.shape[1])\n",
        "    if y.ravel().shape[0] > 1:\n",
        "      for xi, target in zip(X, y):\n",
        "        self._update_weights(xi, target)\n",
        "    else:\n",
        "      self._update_weights(X, y)\n",
        "\n",
        "  def _initialize_weights(self, m):\n",
        "    \"\"\" Initialize weights to small numbers \"\"\"\n",
        "    self.rgen = np.random.RandomState(self.random_state)\n",
        "    self.w_ = self.rgen.normal(loc=0.0, scale=0.01,\n",
        "                             size=1 + m)\n",
        "    self.w_initialized = True\n",
        "  \n",
        "  def _shuffle(self, X, y):\n",
        "    \"\"\" Shuffle Training Data \"\"\"\n",
        "    r = self.rgen.permutation(len(y))\n",
        "    return X[r], y[r]\n",
        "\n",
        "  def _update_weights(self, xi, target):\n",
        "    \"\"\" Apply Adaline learning rule to update the weghts\"\"\"\n",
        "    output = self.activation(self.net_input(xi))\n",
        "    error = (target - output)\n",
        "    self.w_[1:] += self.eta * xi.dot(error)\n",
        "    self.w_[0] += self.eta * error\n",
        "    cost = 0.5 * error ** 2\n",
        "    return cost\n",
        "\n",
        "  def net_input(self, X):\n",
        "    \"\"\" Calculate the net input \"\"\"\n",
        "    return np.dot(X, self.w_[1:]) + self.w_[0]\n",
        "\n",
        "  def activation(self, X):\n",
        "    \"\"\" Compute linear activation \"\"\"\n",
        "    return X\n",
        "\n",
        "  def predict(self, X):\n",
        "    \"\"\" Return the class label after unit step \"\"\"\n",
        "    return np.where(self.activation(self.net_input(X))\n",
        "                    >= 0.0, 1, -1)"
      ],
      "metadata": {
        "id": "yzm_ncQnz9LW"
      },
      "execution_count": 19,
      "outputs": []
    },
    {
      "cell_type": "code",
      "source": [
        "ada_sgd = AdalineSGD(n_iter=15, eta=0.01, random_state=1)\n",
        "ada_sgd.fit(X_std, y)\n",
        "\n",
        "plot_decision_regions(X_std, y, classifier=ada_sgd)\n",
        "plt.title(\"Adaline - Stochastic Gradient Descent\")\n",
        "plt.xlabel(\"Sepal length [standardized]\")\n",
        "plt.ylabel(\"Petal length [standardized]\")\n",
        "plt.legend(loc=\"upper right\")\n",
        "plt.tight_layout();"
      ],
      "metadata": {
        "colab": {
          "base_uri": "https://localhost:8080/",
          "height": 297
        },
        "id": "M2OUtkVh1W6X",
        "outputId": "5ee39bb2-7630-4158-b6ce-d54fd3af2bc5"
      },
      "execution_count": 22,
      "outputs": [
        {
          "output_type": "display_data",
          "data": {
            "text/plain": [
              "<Figure size 432x288 with 1 Axes>"
            ],
            "image/png": "[encoded data removed]"
          },
          "metadata": {
            "needs_background": "light"
          }
        }
      ]
    },
    {
      "cell_type": "code",
      "source": [
        "plt.plot(range(1, len(ada_sgd.cost_) + 1), ada_sgd.cost_,\n",
        "         marker='o')\n",
        "plt.xlabel(\"Epochs\")\n",
        "plt.ylabel(\"Average cost\")\n",
        "plt.tight_layout()"
      ],
      "metadata": {
        "colab": {
          "base_uri": "https://localhost:8080/",
          "height": 297
        },
        "id": "vvOMdJ57460-",
        "outputId": "ee3a625b-f8f0-432c-de5b-18cfb2244d01"
      },
      "execution_count": 21,
      "outputs": [
        {
          "output_type": "display_data",
          "data": {
            "text/plain": [
              "<Figure size 432x288 with 1 Axes>"
            ],
            "image/png": "[encoded data removed]"
          },
          "metadata": {
            "needs_background": "light"
          }
        }
      ]
    },
    {
      "cell_type": "code",
      "source": [],
      "metadata": {
        "id": "8UNf7JL-_1mY"
      },
      "execution_count": 21,
      "outputs": []
    }
  ]
}